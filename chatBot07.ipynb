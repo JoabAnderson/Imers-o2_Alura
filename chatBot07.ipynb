{
  "nbformat": 4,
  "nbformat_minor": 0,
  "metadata": {
    "colab": {
      "provenance": [],
      "authorship_tag": "ABX9TyOvJy1AHAJ53Um9oRyQQhNp",
      "include_colab_link": true
    },
    "kernelspec": {
      "name": "python3",
      "display_name": "Python 3"
    },
    "language_info": {
      "name": "python"
    }
  },
  "cells": [
    {
      "cell_type": "markdown",
      "metadata": {
        "id": "view-in-github",
        "colab_type": "text"
      },
      "source": [
        "<a href=\"https://colab.research.google.com/github/JoabAnderson/Imers-o2_Alura/blob/main/chatBot07.ipynb\" target=\"_parent\"><img src=\"https://colab.research.google.com/assets/colab-badge.svg\" alt=\"Open In Colab\"/></a>"
      ]
    },
    {
      "cell_type": "code",
      "execution_count": 3,
      "metadata": {
        "colab": {
          "base_uri": "https://localhost:8080/",
          "height": 1000
        },
        "id": "Z2537XEpfGwi",
        "outputId": "76d401f9-6f65-42df-d684-ed3e0b4d76fb"
      },
      "outputs": [
        {
          "name": "stdout",
          "output_type": "stream",
          "text": [
            "Bem vindo ao chatBot07!\n",
            "Como posso ajudar?\n",
            "> Dê uma descrição breve sobre chatbot que usam IA.\n",
            "Os chatbots de IA são programas de computador que simulam conversas humanas por meio de texto ou voz. Eles utilizam técnicas de processamento de linguagem natural (PNL) e aprendizado de máquina (ML) para entender e responder às consultas do usuário.\n",
            "\n",
            "**Características:**\n",
            "\n",
            "* **Compreensão de linguagem natural:** Compreendem e interpretam a linguagem humana, mesmo com erros gramaticais ou frases complexas.\n",
            "* **Respostas personalizadas:** Fornecem respostas personalizadas com base no contexto da conversa e nas preferências do usuário.\n",
            "* **Aprendizado contínuo:** Aprimoram-se com o tempo, aprendendo com as interações do usuário e dados adicionais.\n",
            "* **Disponibilidade 24 horas por dia, 7 dias por semana:** Estão disponíveis para fornecer suporte ou informações a qualquer momento.\n",
            "* **Automatização de tarefas:** Automatizam tarefas repetitivas, como atendimento ao cliente, agendamento de compromissos e processamento de pedidos.\n",
            "\n",
            "**Aplicações:**\n",
            "\n",
            "* Atendimento ao cliente\n",
            "* Suporte técnico\n",
            "* Vendas e marketing\n",
            "* Agendamento e reservas\n",
            "* Coleta de feedback\n",
            "* Educação e treinamento \n",
            "\n",
            "\n",
            "Deseja finalizar o chat? \n",
            "S para sim e N para não\n",
            "> Não\n",
            "Como posso ajudar?\n",
            "> Como funciona a educação e treinamento do mesmo?\n",
            "**Educação e treinamento de chatbots de IA**\n",
            "\n",
            "Os chatbots de IA são treinados usando técnicas de aprendizado de máquina, principalmente aprendizado supervisionado e não supervisionado.\n",
            "\n",
            "**Aprendizado supervisionado:**\n",
            "\n",
            "* Os chatbots são alimentados com um conjunto de dados rotulados de conversas humanas.\n",
            "* O modelo de IA aprende a mapear entradas (perguntas do usuário) para saídas (respostas apropriadas).\n",
            "* Os dados rotulados são fornecidos por especialistas humanos ou coletados de interações anteriores do chatbot.\n",
            "\n",
            "**Aprendizado não supervisionado:**\n",
            "\n",
            "* Os chatbots são alimentados com um conjunto de dados não rotulados de conversas humanas.\n",
            "* O modelo de IA identifica padrões e estruturas nos dados sem orientação explícita.\n",
            "* Isso permite que o chatbot aprenda a gerar respostas mais naturais e contextuais.\n",
            "\n",
            "**Processo de treinamento:**\n",
            "\n",
            "1. **Coleta de dados:** Coleta de um conjunto de dados abrangente de conversas humanas relevantes para o domínio de aplicação.\n",
            "2. **Pré-processamento de dados:** Limpeza, tokenização e rotulação dos dados, conforme necessário.\n",
            "3. **Seleção do modelo:** Escolha de um modelo de aprendizado de máquina apropriado, como redes neurais ou máquinas de vetores de suporte.\n",
            "4. **Treinamento do modelo:** Alimentação do modelo de IA com os dados de treinamento e ajuste dos parâmetros do modelo.\n",
            "5. **Avaliação:** Avaliação do desempenho do chatbot em um conjunto de dados de teste para medir precisão, fluência e satisfação do usuário.\n",
            "6. **Implantação:** Implantação do chatbot treinado em um ambiente de produção.\n",
            "\n",
            "**Treinamento contínuo:**\n",
            "\n",
            "Os chatbots de IA são treinados continuamente para melhorar seu desempenho. Novos dados são adicionados regularmente e o modelo é reajustado para incorporar novos conhecimentos e tendências. Isso garante que o chatbot permaneça atualizado e forneça respostas cada vez mais precisas e úteis. \n",
            "\n",
            "> Fim\n",
            "\n",
            "Deseja finalizar o chat? \n",
            "S para sim e N para não\n",
            "> Sim\n"
          ]
        },
        {
          "output_type": "display_data",
          "data": {
            "text/plain": [
              "<IPython.core.display.Markdown object>"
            ],
            "text/markdown": "> **user**: Dê uma descrição breve sobre chatbot que usam IA."
          },
          "metadata": {}
        },
        {
          "output_type": "stream",
          "name": "stdout",
          "text": [
            "---------------------------------------------------\n"
          ]
        },
        {
          "output_type": "display_data",
          "data": {
            "text/plain": [
              "<IPython.core.display.Markdown object>"
            ],
            "text/markdown": "> **model**: Os chatbots de IA são programas de computador que simulam conversas humanas por meio de texto ou voz. Eles utilizam técnicas de processamento de linguagem natural (PNL) e aprendizado de máquina (ML) para entender e responder às consultas do usuário.\n> \n> **Características:**\n> \n> * **Compreensão de linguagem natural:** Compreendem e interpretam a linguagem humana, mesmo com erros gramaticais ou frases complexas.\n> * **Respostas personalizadas:** Fornecem respostas personalizadas com base no contexto da conversa e nas preferências do usuário.\n> * **Aprendizado contínuo:** Aprimoram-se com o tempo, aprendendo com as interações do usuário e dados adicionais.\n> * **Disponibilidade 24 horas por dia, 7 dias por semana:** Estão disponíveis para fornecer suporte ou informações a qualquer momento.\n> * **Automatização de tarefas:** Automatizam tarefas repetitivas, como atendimento ao cliente, agendamento de compromissos e processamento de pedidos.\n> \n> **Aplicações:**\n> \n> * Atendimento ao cliente\n> * Suporte técnico\n> * Vendas e marketing\n> * Agendamento e reservas\n> * Coleta de feedback\n> * Educação e treinamento"
          },
          "metadata": {}
        },
        {
          "output_type": "stream",
          "name": "stdout",
          "text": [
            "---------------------------------------------------\n"
          ]
        },
        {
          "output_type": "display_data",
          "data": {
            "text/plain": [
              "<IPython.core.display.Markdown object>"
            ],
            "text/markdown": "> **user**: Como funciona a educação e treinamento do mesmo?"
          },
          "metadata": {}
        },
        {
          "output_type": "stream",
          "name": "stdout",
          "text": [
            "---------------------------------------------------\n"
          ]
        },
        {
          "output_type": "display_data",
          "data": {
            "text/plain": [
              "<IPython.core.display.Markdown object>"
            ],
            "text/markdown": "> **model**: **Educação e treinamento de chatbots de IA**\n> \n> Os chatbots de IA são treinados usando técnicas de aprendizado de máquina, principalmente aprendizado supervisionado e não supervisionado.\n> \n> **Aprendizado supervisionado:**\n> \n> * Os chatbots são alimentados com um conjunto de dados rotulados de conversas humanas.\n> * O modelo de IA aprende a mapear entradas (perguntas do usuário) para saídas (respostas apropriadas).\n> * Os dados rotulados são fornecidos por especialistas humanos ou coletados de interações anteriores do chatbot.\n> \n> **Aprendizado não supervisionado:**\n> \n> * Os chatbots são alimentados com um conjunto de dados não rotulados de conversas humanas.\n> * O modelo de IA identifica padrões e estruturas nos dados sem orientação explícita.\n> * Isso permite que o chatbot aprenda a gerar respostas mais naturais e contextuais.\n> \n> **Processo de treinamento:**\n> \n> 1. **Coleta de dados:** Coleta de um conjunto de dados abrangente de conversas humanas relevantes para o domínio de aplicação.\n> 2. **Pré-processamento de dados:** Limpeza, tokenização e rotulação dos dados, conforme necessário.\n> 3. **Seleção do modelo:** Escolha de um modelo de aprendizado de máquina apropriado, como redes neurais ou máquinas de vetores de suporte.\n> 4. **Treinamento do modelo:** Alimentação do modelo de IA com os dados de treinamento e ajuste dos parâmetros do modelo.\n> 5. **Avaliação:** Avaliação do desempenho do chatbot em um conjunto de dados de teste para medir precisão, fluência e satisfação do usuário.\n> 6. **Implantação:** Implantação do chatbot treinado em um ambiente de produção.\n> \n> **Treinamento contínuo:**\n> \n> Os chatbots de IA são treinados continuamente para melhorar seu desempenho. Novos dados são adicionados regularmente e o modelo é reajustado para incorporar novos conhecimentos e tendências. Isso garante que o chatbot permaneça atualizado e forneça respostas cada vez mais precisas e úteis."
          },
          "metadata": {}
        },
        {
          "output_type": "stream",
          "name": "stdout",
          "text": [
            "---------------------------------------------------\n"
          ]
        },
        {
          "output_type": "display_data",
          "data": {
            "text/plain": [
              "<IPython.core.display.Markdown object>"
            ],
            "text/markdown": "> **user**: Fim"
          },
          "metadata": {}
        },
        {
          "output_type": "stream",
          "name": "stdout",
          "text": [
            "---------------------------------------------------\n"
          ]
        },
        {
          "output_type": "display_data",
          "data": {
            "text/plain": [
              "<IPython.core.display.Markdown object>"
            ],
            "text/markdown": "> **model**: Obrigado por conversar comigo! Fico feliz em ajudar com qualquer outra dúvida que você possa ter sobre chatbots de IA ou tópicos relacionados."
          },
          "metadata": {}
        },
        {
          "output_type": "stream",
          "name": "stdout",
          "text": [
            "---------------------------------------------------\n"
          ]
        },
        {
          "output_type": "stream",
          "name": "stdout",
          "text": [
            "---------------------------------------------------\n",
            "Chat finalizado\n",
            "Obrigado por usar o chatBot07!\n"
          ]
        }
      ],
      "source": [
        "import google.generativeai as genai\n",
        "import textwrap\n",
        "from IPython.display import display, Markdown\n",
        "from google.colab import userdata\n",
        "\n",
        "\n",
        "# Define a chave de API do Google Cloud\n",
        "api_key = userdata.get('secretKey')\n",
        "\n",
        "# Configura a API com a chave fornecida\n",
        "genai.configure(api_key=api_key)\n",
        "\n",
        "# Define as configurações para a geração de texto\n",
        "generation_config = {\n",
        "    'candidate_count': 1,  # Número de respostas candidatas a serem geradas\n",
        "    'temperature': 0.5,  # Temperatura que controla a criatividade do modelo (0 = mais conservador, 1 = mais criativo)\n",
        "}\n",
        "\n",
        "# Define as configurações de segurança para o modelo\n",
        "safety_settings = {\n",
        "    'HARASSMENT': 'BLOCK_NONE',  # Não bloquear conteúdo de assédio\n",
        "    'HATE': 'BLOCK_NONE',  # Não bloquear conteúdo de ódio\n",
        "    'SEXUAL': 'BLOCK_NONE',  # Não bloquear conteúdo sexual\n",
        "    'DANGEROUS': 'BLOCK_NONE',  # Não bloquear conteúdo perigoso\n",
        "}\n",
        "\n",
        "# Cria uma instância do modelo de linguagem \"gemini-1.0-pro\" com as configurações especificadas\n",
        "modelo = genai.GenerativeModel(model_name='gemini-1.0-pro', generation_config=generation_config, safety_settings=safety_settings)\n",
        "\n",
        "print('Bem vindo ao chatBot07!')\n",
        "\n",
        "# Função para formatar o texto da resposta do chatbot para Markdown\n",
        "def to_markdown(text):\n",
        "    text = text.replace('•', '  *')  # Substitui marcadores por asteriscos para criar listas em Markdown\n",
        "    return Markdown(textwrap.indent(text, '> ', predicate=lambda _: True))  # Aplica recuo e converte para Markdown\n",
        "\n",
        "# Função principal que inicia o chat e interage com o usuário\n",
        "def meuChat(history=[]):\n",
        "    chat = modelo.start_chat(history=history)  # Inicia um chat com o modelo, com o histórico fornecido\n",
        "    print('Como posso ajudar?')  # Imprime uma mensagem inicial\n",
        "    while True:  # Loop principal do chat\n",
        "        try:\n",
        "            comando = input('> ')  # Obtém a entrada do usuário\n",
        "            resposta = chat.send_message(comando)  # Envia a entrada para o modelo e obtém a resposta\n",
        "            if comando.upper() in ['FIM', 'EXIT', 'FECHAR', 'SAIR']:  # Verifica se o usuário deseja sair\n",
        "                fecharChat(chat)  # Chama a função para fechar o chat, passando o objeto chat\n",
        "                break\n",
        "            print(resposta.text, '\\n')  # Imprime a resposta do modelo\n",
        "        except KeyboardInterrupt:  # Captura a interrupção do teclado (Ctrl+C)\n",
        "            fecharChat(chat)  # Chama a função para fechar o chat, passando o objeto chat\n",
        "            break\n",
        "    # Exibe o histórico do chat em formato Markdown\n",
        "    for message in chat.history:\n",
        "        display(to_markdown(f'**{message.role}**: {message.parts[0].text}'))\n",
        "        print('---------------------------------------------------')\n",
        "\n",
        "# Função para fechar o chat com confirmação do usuário\n",
        "def fecharChat(chat):\n",
        "    while True:  # Loop para obter a confirmação do usuário\n",
        "        fim = input('\\nDeseja finalizar o chat? \\nS para sim e N para não\\n> ').upper()  # Obtém a entrada e converte para maiúsculas\n",
        "        if fim in ['S', 'SIM']:  # Verifica se o usuário confirmou a saída\n",
        "            break  # Sai do loop\n",
        "        elif fim in ['N', 'NAO', 'NÃO']:  # Verifica se o usuário deseja continuar\n",
        "            meuChat(chat.history)  # Chama a função meuChat, passando o histórico atual do chat\n",
        "            break\n",
        "        else:  # Entrada inválida\n",
        "            print('Entrada inválida. Por favor, digite S ou N.')\n",
        "            fim = input('\\nDeseja finalizar o chat? \\nS para sim e N para não\\n ').upper()\n",
        "\n",
        "meuChat() # Chama a função principal para iniciar o chat\n",
        "\n",
        "print('Chat finalizado')\n",
        "print('Obrigado por usar o chatBot07!')"
      ]
    }
  ]
}
